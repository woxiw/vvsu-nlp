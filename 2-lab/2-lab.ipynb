{
 "cells": [
  {
   "cell_type": "markdown",
   "metadata": {},
   "source": [
    "Установка и импорт необходимых библиотек"
   ]
  },
  {
   "cell_type": "code",
   "execution_count": null,
   "metadata": {},
   "outputs": [
    {
     "name": "stderr",
     "output_type": "stream",
     "text": [
      "[nltk_data] Downloading package stopwords to\n",
      "[nltk_data]     C:\\Users\\mg821\\AppData\\Roaming\\nltk_data...\n",
      "[nltk_data]   Package stopwords is already up-to-date!\n"
     ]
    },
    {
     "data": {
      "text/plain": [
       "True"
      ]
     },
     "execution_count": 67,
     "metadata": {},
     "output_type": "execute_result"
    }
   ],
   "source": [
    "import nltk\n",
    "from nltk.corpus import stopwords\n",
    "from pymorphy3 import MorphAnalyzer\n",
    "from collections import defaultdict\n",
    "import math\n",
    "import re\n",
    "# Загрузка стоп-слов для русского языка\n",
    "nltk.download('stopwords')"
   ]
  },
  {
   "cell_type": "markdown",
   "metadata": {},
   "source": [
    "Загрузка стоп-слов и инициализация инструментов"
   ]
  },
  {
   "cell_type": "code",
   "execution_count": null,
   "metadata": {},
   "outputs": [],
   "source": [
    "stop_words = set(stopwords.words('russian'))\n",
    "\n",
    "# Инициализация морфологического анализатора и стеммера\n",
    "morph = MorphAnalyzer()"
   ]
  },
  {
   "cell_type": "markdown",
   "metadata": {},
   "source": [
    "функции для обработки текста"
   ]
  },
  {
   "cell_type": "code",
   "execution_count": 69,
   "metadata": {},
   "outputs": [],
   "source": [
    "def lemmatize_word(word):\n",
    "    \"\"\"Возвращает лемматизированную форму слова.\"\"\"\n",
    "    return morph.parse(word)[0].normal_form\n",
    "\n",
    "\n",
    "def preprocessing(texts: list[str]) -> list[list[str]]:\n",
    "    \"\"\"\n",
    "    Препроцессинг текстов: удаление знаков препинания, удаление стоп-слов, токенизация, лемматизация.\n",
    "    \"\"\"\n",
    "    result = []\n",
    "    for text in texts:\n",
    "        # Удаление знаков препинания и цифр\n",
    "        text = re.sub(r'[^\\w\\s]', '', text)\n",
    "        text = re.sub(r'\\d+', '', text)\n",
    "        \n",
    "        # Преобразование в нижний регистр\n",
    "        text = text.lower()\n",
    "        \n",
    "        # Разделение на слова\n",
    "        words = text.split()\n",
    "        \n",
    "        # Удаление стоп-слов и лемматизация\n",
    "        processed_words = [lemmatize_word(word) for word in words if word not in stop_words]\n",
    "        \n",
    "        result.append(processed_words)\n",
    "    \n",
    "    return result\n"
   ]
  },
  {
   "cell_type": "markdown",
   "metadata": {},
   "source": [
    " Функция перевода текста с русского на английский, Токенизация текста"
   ]
  },
  {
   "cell_type": "code",
   "execution_count": null,
   "metadata": {},
   "outputs": [],
   "source": [
    "def tokenize_text(text):\n",
    "    \"\"\"Токенизирует текст на уровне отдельных символов.\"\"\"\n",
    "    return list(text)"
   ]
  },
  {
   "cell_type": "markdown",
   "metadata": {},
   "source": [
    "Реализация Bag of Words"
   ]
  },
  {
   "cell_type": "code",
   "execution_count": 71,
   "metadata": {},
   "outputs": [],
   "source": [
    "def make_dict(texts: list[list[str]]) -> dict[str]:\n",
    "    \"\"\"\n",
    "    Создание словаря, где ключами являются уникальные слова, а значениями — их индексы.\n",
    "    \"\"\"\n",
    "    word_dict = {}\n",
    "    index = 0\n",
    "    \n",
    "    for text in texts:\n",
    "        for word in text:\n",
    "            if word not in word_dict:\n",
    "                word_dict[word] = index\n",
    "                index += 1\n",
    "    \n",
    "    return word_dict\n",
    "\n",
    "def bag_of_words(texts: list[list[str]], word_dict: dict[str]) -> list[list[int]]:\n",
    "    \"\"\"\n",
    "    Создание Bag of Words представления текстов.\n",
    "    \"\"\"\n",
    "    result = []\n",
    "    \n",
    "    for text in texts:\n",
    "        bag = [0] * len(word_dict)\n",
    "        for word in text:\n",
    "            if word in word_dict:\n",
    "                bag[word_dict[word]] += 1\n",
    "        result.append(bag)\n",
    "    \n",
    "    return result"
   ]
  },
  {
   "cell_type": "markdown",
   "metadata": {},
   "source": [
    "Реализация TF-IDF"
   ]
  },
  {
   "cell_type": "code",
   "execution_count": 72,
   "metadata": {},
   "outputs": [],
   "source": [
    "def count_num_words(texts: list[list[str]]) -> list[int]:\n",
    "    \"\"\"\n",
    "    Подсчет числа слов в каждом тексте.\n",
    "    \"\"\"\n",
    "    return [len(text) for text in texts]\n",
    "\n",
    "def count_word_occurrences(texts: list[list[str]], word_dict: dict[str]) -> dict[int, int]:\n",
    "    \"\"\"\n",
    "    Подсчет количества вхождений каждого слова в текстах.\n",
    "    \"\"\"\n",
    "    word_occurrences = defaultdict(int)\n",
    "    \n",
    "    for text in texts:\n",
    "        for word in text:\n",
    "            if word in word_dict:\n",
    "                word_occurrences[word_dict[word]] += 1\n",
    "    \n",
    "    return dict(word_occurrences)\n",
    "\n",
    "def tfidf(texts: list[list[str]], word_dict: dict[str]) -> list[list[float]]:\n",
    "    \"\"\"\n",
    "    Создание TF-IDF представления текстов.\n",
    "    \"\"\"\n",
    "    num_words = count_num_words(texts)\n",
    "    word_occurrences = count_word_occurrences(texts, word_dict)\n",
    "    total_texts = len(texts)\n",
    "    \n",
    "    result = []\n",
    "    \n",
    "    for text in texts:\n",
    "        tf = [0] * len(word_dict)\n",
    "        for word in text:\n",
    "            if word in word_dict:\n",
    "                index = word_dict[word]\n",
    "                tf[index] = (tf[index] + 1) / num_words[texts.index(text)]\n",
    "        \n",
    "        idf = [math.log(total_texts / (occurrences + 1)) for occurrences in word_occurrences.values()]\n",
    "        \n",
    "        tf_idf = [tf[i] * idf[i] for i in range(len(word_dict))]\n",
    "        \n",
    "        result.append(tf_idf)\n",
    "    \n",
    "    return result"
   ]
  },
  {
   "cell_type": "markdown",
   "metadata": {},
   "source": [
    "Вывод результатов"
   ]
  },
  {
   "cell_type": "code",
   "execution_count": null,
   "metadata": {},
   "outputs": [
    {
     "name": "stdout",
     "output_type": "stream",
     "text": [
      "----------------------------------------\n",
      "📄 Исходные тексты:\n",
      "Текст 1: Сегодня погода отличная, я пошла на прогулку.\n",
      "Текст 2: Я очень рада, что сегодня так солнечно.\n",
      "Текст 3: было дождливо, я не могла на прогулку.\n",
      "----------------------------------------\n",
      "\n",
      "🔹 Обработанные тексты:\n",
      "Текст 1: ['сегодня', 'погода', 'отличный', 'пойти', 'прогулка']\n",
      "Текст 2: ['очень', 'рада', 'сегодня', 'солнечно']\n",
      "Текст 3: ['дождливый', 'мочь', 'прогулка']\n",
      "----------------------------------------\n",
      "\n",
      "🔹 Bag of Words:\n",
      "Текст 1: [1, 1, 1, 1, 1, 0, 0, 0, 0, 0]\n",
      "Текст 2: [1, 0, 0, 0, 0, 1, 1, 1, 0, 0]\n",
      "Текст 3: [0, 0, 0, 0, 1, 0, 0, 0, 1, 1]\n",
      "----------------------------------------\n",
      "\n",
      "🔹 TF-IDF:\n",
      "Текст 1: [0.0, 0.08109302162163289, 0.08109302162163289, 0.08109302162163289, 0.0, 0.0, 0.0, 0.0, 0.0, 0.0]\n",
      "Текст 2: [0.0, 0.0, 0.0, 0.0, 0.0, 0.1013662770270411, 0.1013662770270411, 0.1013662770270411, 0.0, 0.0]\n",
      "Текст 3: [0.0, 0.0, 0.0, 0.0, 0.0, 0.0, 0.0, 0.0, 0.13515503603605478, 0.13515503603605478]\n",
      "----------------------------------------\n"
     ]
    }
   ],
   "source": [
    "# Исходный текст\n",
    "texts = [\n",
    "    \"Сегодня погода отличная, я пошла на прогулку.\",\n",
    "    \"Я очень рада, что сегодня так солнечно.\",\n",
    "    \"Вчера было дождливо, я не могла на прогулку.\"\n",
    "]\n",
    "\n",
    "# Препроцессинг\n",
    "preprocessed_texts = preprocessing(texts)\n",
    "\n",
    "# Вывод результата\n",
    "print(\"-\" * 40)\n",
    "print(\"📄 Исходные тексты:\")\n",
    "for i, text in enumerate(texts):\n",
    "    print(f\"Текст {i+1}: {text}\")\n",
    "print(\"-\" * 40)\n",
    "\n",
    "print(\"\\n🔹 Обработанные тексты:\")\n",
    "for i, text in enumerate(preprocessed_texts):\n",
    "    print(f\"Текст {i+1}: {text}\")\n",
    "print(\"-\" * 40)\n",
    "\n",
    "# Bag of Words\n",
    "word_dict = make_dict(preprocessed_texts)\n",
    "bow = bag_of_words(preprocessed_texts, word_dict)\n",
    "print(\"\\n🔹 Bag of Words:\")\n",
    "for i, text in enumerate(bow):\n",
    "    print(f\"Текст {i+1}: {text}\")\n",
    "print(\"-\" * 40)\n",
    "\n",
    "# TF-IDF\n",
    "tfidf_result = tfidf(preprocessed_texts, word_dict)\n",
    "print(\"\\n🔹 TF-IDF:\")\n",
    "for i, text in enumerate(tfidf_result):\n",
    "    print(f\"Текст {i+1}: {text}\")\n",
    "print(\"-\" * 40)"
   ]
  }
 ],
 "metadata": {
  "kernelspec": {
   "display_name": "Python 3",
   "language": "python",
   "name": "python3"
  },
  "language_info": {
   "codemirror_mode": {
    "name": "ipython",
    "version": 3
   },
   "file_extension": ".py",
   "mimetype": "text/x-python",
   "name": "python",
   "nbconvert_exporter": "python",
   "pygments_lexer": "ipython3",
   "version": "3.12.9"
  }
 },
 "nbformat": 4,
 "nbformat_minor": 2
}
