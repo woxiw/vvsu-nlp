{
 "cells": [
  {
   "cell_type": "markdown",
   "metadata": {},
   "source": [
    "Установка и импорт необходимых библиотек"
   ]
  },
  {
   "cell_type": "code",
   "execution_count": 1,
   "metadata": {},
   "outputs": [
    {
     "name": "stderr",
     "output_type": "stream",
     "text": [
      "[nltk_data] Downloading package stopwords to\n",
      "[nltk_data]     C:\\Users\\mg821\\AppData\\Roaming\\nltk_data...\n",
      "[nltk_data]   Package stopwords is already up-to-date!\n"
     ]
    },
    {
     "data": {
      "text/plain": [
       "True"
      ]
     },
     "execution_count": 1,
     "metadata": {},
     "output_type": "execute_result"
    }
   ],
   "source": [
    "import nltk\n",
    "from nltk.corpus import stopwords\n",
    "from pymorphy3 import MorphAnalyzer\n",
    "from nltk.stem import SnowballStemmer\n",
    "from googletrans import Translator\n",
    "from sklearn.feature_extraction.text import CountVectorizer\n",
    "\n",
    "# Загрузка стоп-слов для русского языка\n",
    "nltk.download('stopwords')\n"
   ]
  },
  {
   "cell_type": "markdown",
   "metadata": {},
   "source": [
    "Загрузка стоп-слов и инициализация инструментов"
   ]
  },
  {
   "cell_type": "code",
   "execution_count": 2,
   "metadata": {},
   "outputs": [],
   "source": [
    "stop_words = set(stopwords.words('russian'))\n",
    "\n",
    "# Инициализация морфологического анализатора и стеммера\n",
    "morph = MorphAnalyzer()\n",
    "stemmer = SnowballStemmer(\"russian\")\n",
    "\n",
    "# Инициализация переводчика\n",
    "translator = Translator()\n"
   ]
  },
  {
   "cell_type": "markdown",
   "metadata": {},
   "source": [
    "функции для обработки текста"
   ]
  },
  {
   "cell_type": "code",
   "execution_count": null,
   "metadata": {},
   "outputs": [],
   "source": [
    "\n",
    "def lemmatize_word(word):\n",
    "    \"\"\"Возвращает лемматизированную форму слова.\"\"\"\n",
    "    return morph.parse(word)[0].normal_form\n",
    "\n",
    "def stem_word(word):\n",
    "    \"\"\"Возвращает стеммированную форму слова.\"\"\"\n",
    "    return stemmer.stem(word)\n",
    "\n",
    "def process_text(text):\n",
    "    \"\"\"Обрабатывает текст: лемматизация, стемминг и удаление стоп-слов.\"\"\"\n",
    "    \n",
    "    words = text.split()\n",
    "    # Убираем стоп-слова\n",
    "    filtered_words = [word for word in words if word not in stop_words]\n",
    "    \n",
    "    lemmatized_words = [lemmatize_word(word) for word in filtered_words]\n",
    "    stemmed_words = [stem_word(word) for word in filtered_words]\n",
    "    \n",
    "    return lemmatized_words, stemmed_words\n"
   ]
  },
  {
   "cell_type": "markdown",
   "metadata": {},
   "source": [
    " Функция перевода текста с русского на английский, Токенизация и Векторизация текста"
   ]
  },
  {
   "cell_type": "code",
   "execution_count": 4,
   "metadata": {},
   "outputs": [],
   "source": [
    "def translate_to_english(text):\n",
    "    \"\"\"Переводит текст с русского на английский.\"\"\"\n",
    "    translation = translator.translate(text, src='ru', dest='en')\n",
    "    return translation.text\n",
    "\n",
    "def tokenize_text(text):\n",
    "    \"\"\"Токенизирует текст на уровне отдельных символов.\"\"\"\n",
    "    return list(text)\n",
    "\n",
    "def vectorize_text(text):\n",
    "    \"\"\"Векторизует текст, представляя каждый символ в виде его ASCII-кода.\"\"\"\n",
    " \n",
    "    # Приводим текст к ASCII (оставляем только символы с кодами < 128)\n",
    "    ascii_text = ''.join([char if ord(char) < 128 else ' ' for char in text])\n",
    "    \n",
    "    # Преобразуем каждый символ в его ASCII код\n",
    "    ascii_codes = [ord(char) for char in ascii_text]\n",
    "    \n",
    "    return ascii_codes"
   ]
  },
  {
   "cell_type": "markdown",
   "metadata": {},
   "source": [
    "Исходные данные и обработка текста"
   ]
  },
  {
   "cell_type": "code",
   "execution_count": 5,
   "metadata": {},
   "outputs": [],
   "source": [
    "# Исходный текст\n",
    "text = \"саша шла по шоссе и сосала сушку\"\n",
    "\n",
    "# Лемматизация и стемминг\n",
    "lemmatized_text, stemmed_text = process_text(text)\n",
    "\n",
    "# Перевод на английский\n",
    "translated_lemmatized_text = translate_to_english(' '.join(lemmatized_text))\n",
    "translated_stemmed_text = translate_to_english(' '.join(stemmed_text))\n"
   ]
  },
  {
   "cell_type": "markdown",
   "metadata": {},
   "source": [
    "Токенизация и векторизация текста"
   ]
  },
  {
   "cell_type": "code",
   "execution_count": null,
   "metadata": {},
   "outputs": [],
   "source": [
    "# Токенизация русская\n",
    "ru_tokenized_lemmatized_text = tokenize_text(' '.join(lemmatized_text))\n",
    "ru_tokenized_stemmed_text = tokenize_text(' '.join(stemmed_text))\n",
    "\n",
    "# Токенизация и векторизация английская\n",
    "tokenized_lemmatized_text = tokenize_text(translated_lemmatized_text)\n",
    "tokenized_stemmed_text = tokenize_text(translated_stemmed_text)\n",
    "\n",
    "vectorized_lemmatized_text = vectorize_text(translated_lemmatized_text)\n",
    "vectorized_stemmed_text = vectorize_text(translated_stemmed_text)"
   ]
  },
  {
   "cell_type": "markdown",
   "metadata": {},
   "source": [
    "Вывод результатов"
   ]
  },
  {
   "cell_type": "code",
   "execution_count": 15,
   "metadata": {},
   "outputs": [
    {
     "name": "stdout",
     "output_type": "stream",
     "text": [
      "----------------------------------------\n",
      "Лемматизация: ['саша', 'идти', 'шоссе', 'сосать', 'сушка']\n",
      "Стемминг: ['саш', 'шла', 'шосс', 'соса', 'сушк']\n",
      "----------------------------------------\n",
      "\n",
      "🔹 Русская токенизация:\n",
      "Лемматизация: ['с', 'а', 'ш', 'а', ' ', 'и', 'д', 'т', 'и', ' ', 'ш', 'о', 'с', 'с', 'е', ' ', 'с', 'о', 'с', 'а', 'т', 'ь', ' ', 'с', 'у', 'ш', 'к', 'а']\n",
      "Стемминг: ['с', 'а', 'ш', ' ', 'ш', 'л', 'а', ' ', 'ш', 'о', 'с', 'с', ' ', 'с', 'о', 'с', 'а', ' ', 'с', 'у', 'ш', 'к']\n",
      "\n",
      "🔹 Английская токенизация:\n",
      "Лемматизация: ['S', 'a', 's', 'h', 'a', ' ', 'g', 'o', ' ', 'h', 'i', 'g', 'h', 'w', 'a', 'y', ' ', 't', 'o', ' ', 's', 'u', 'c', 'k', ' ', 'd', 'r', 'y', 'i', 'n', 'g']\n",
      "Стемминг: ['S', 'a', 's', 'h', ' ', 'w', 'a', 'l', 'k', 'e', 'd', ' ', 'h', 'i', 'g', 'h', 'w', 'a', 'y', ' ', 's', 'u', 'z', 'a', ' ', 's', 'u', 's', 'h', 'k']\n",
      "\n",
      "🔹 Векторизация:\n",
      "Лемматизация: [83, 97, 115, 104, 97, 32, 103, 111, 32, 104, 105, 103, 104, 119, 97, 121, 32, 116, 111, 32, 115, 117, 99, 107, 32, 100, 114, 121, 105, 110, 103] ... (всего 31 элементов)\n",
      "Стемминг: [83, 97, 115, 104, 32, 119, 97, 108, 107, 101, 100, 32, 104, 105, 103, 104, 119, 97, 121, 32, 115, 117, 122, 97, 32, 115, 117, 115, 104, 107] ... (всего 30 элементов)\n",
      "----------------------------------------\n"
     ]
    }
   ],
   "source": [
    "print(\"-\" * 40)\n",
    "print(f\"Лемматизация: {lemmatized_text}\")\n",
    "print(f\"Стемминг: {stemmed_text}\")\n",
    "print(\"-\" * 40)\n",
    "\n",
    "print(\"\\n🔹 Русская токенизация:\")\n",
    "print(\"Лемматизация:\", ru_tokenized_lemmatized_text)\n",
    "print(\"Стемминг:\", ru_tokenized_stemmed_text)\n",
    "\n",
    "print(\"\\n🔹 Английская токенизация:\")\n",
    "print(\"Лемматизация:\", tokenized_lemmatized_text)\n",
    "print(\"Стемминг:\", tokenized_stemmed_text)\n",
    "\n",
    "print(\"\\n🔹 Векторизация:\")\n",
    "print(\"Лемматизация:\", vectorized_lemmatized_text, \"...\", f\"(всего {len(vectorized_lemmatized_text)} элементов)\")\n",
    "print(\"Стемминг:\", vectorized_stemmed_text, \"...\", f\"(всего {len(vectorized_stemmed_text)} элементов)\")\n",
    "print(\"-\" * 40)\n"
   ]
  }
 ],
 "metadata": {
  "kernelspec": {
   "display_name": "Python 3",
   "language": "python",
   "name": "python3"
  },
  "language_info": {
   "codemirror_mode": {
    "name": "ipython",
    "version": 3
   },
   "file_extension": ".py",
   "mimetype": "text/x-python",
   "name": "python",
   "nbconvert_exporter": "python",
   "pygments_lexer": "ipython3",
   "version": "3.12.9"
  }
 },
 "nbformat": 4,
 "nbformat_minor": 2
}
