{
 "cells": [
  {
   "cell_type": "code",
   "execution_count": 23,
   "metadata": {},
   "outputs": [
    {
     "name": "stderr",
     "output_type": "stream",
     "text": [
      "[nltk_data] Downloading package stopwords to\n",
      "[nltk_data]     C:\\Users\\mg821\\AppData\\Roaming\\nltk_data...\n",
      "[nltk_data]   Package stopwords is already up-to-date!\n"
     ]
    },
    {
     "data": {
      "text/plain": [
       "True"
      ]
     },
     "execution_count": 23,
     "metadata": {},
     "output_type": "execute_result"
    }
   ],
   "source": [
    "import nltk\n",
    "from nltk.corpus import stopwords\n",
    "from pymorphy3 import MorphAnalyzer\n",
    "from nltk.stem import SnowballStemmer\n",
    "from googletrans import Translator\n",
    "from sklearn.feature_extraction.text import CountVectorizer\n",
    "\n",
    "# Загрузка стоп-слов для русского языка\n",
    "nltk.download('stopwords')\n"
   ]
  },
  {
   "cell_type": "code",
   "execution_count": 24,
   "metadata": {},
   "outputs": [],
   "source": [
    "stop_words = set(stopwords.words('russian'))\n",
    "\n",
    "# Инициализация морфологического анализатора и стеммера\n",
    "morph = MorphAnalyzer()\n",
    "stemmer = SnowballStemmer(\"russian\")\n",
    "\n",
    "# Инициализация переводчика\n",
    "translator = Translator()\n",
    "\n",
    "def lemmatize_word(word):\n",
    "    \"\"\"Возвращает лемматизированную форму слова.\"\"\"\n",
    "    return morph.parse(word)[0].normal_form\n",
    "\n",
    "def stem_word(word):\n",
    "    \"\"\"Возвращает стеммированную форму слова.\"\"\"\n",
    "    return stemmer.stem(word)\n",
    "\n",
    "def process_text(text):\n",
    "    \"\"\"Обрабатывает текст: лемматизация, стемминг и удаление стоп-слов.\"\"\"\n",
    "    \n",
    "    words = text.split()\n",
    "    \n",
    "    # Убираем стоп-слова\n",
    "    filtered_words = [word for word in words if word not in stop_words]\n",
    "    \n",
    "    lemmatized_words = [lemmatize_word(word) for word in filtered_words]\n",
    "    stemmed_words = [stem_word(word) for word in filtered_words]\n",
    "    \n",
    "    return lemmatized_words, stemmed_words\n"
   ]
  },
  {
   "cell_type": "code",
   "execution_count": 25,
   "metadata": {},
   "outputs": [],
   "source": [
    "def translate_to_english(text):\n",
    "    \"\"\"Переводит текст с русского на английский.\"\"\"\n",
    "    translation = translator.translate(text, src='ru', dest='en')\n",
    "    return translation.text\n",
    "\n",
    "def tokenize_text(text):\n",
    "    \"\"\"Токенизирует текст на основе символов ASCII.\"\"\"\n",
    "    return list(text)\n",
    "\n",
    "def vectorize_text(text):\n",
    "    \"\"\"Векторизует текст в ASCII коды символов\"\"\"\n",
    " \n",
    "# Приводим текст к ASCII (оставляем только символы с кодами < 128)\n",
    "    ascii_text = ''.join([char if ord(char) < 128 else ' ' for char in text])\n",
    "    \n",
    "    # Преобразуем каждый символ в его ASCII код\n",
    "    ascii_codes = [ord(char) for char in ascii_text]\n",
    "    \n",
    "    return ascii_codes"
   ]
  },
  {
   "cell_type": "code",
   "execution_count": null,
   "metadata": {},
   "outputs": [],
   "source": [
    "# Исходный текст\n",
    "text = \"Мальчики играли в футбол на детской площадке\"\n",
    "\n",
    "# Лемматизация и стемминг\n",
    "lemmatized_text, stemmed_text = process_text(text)\n",
    "\n",
    "# Перевод на английский\n",
    "translated_lemmatized_text = translate_to_english(' '.join(lemmatized_text))\n",
    "translated_stemmed_text = translate_to_english(' '.join(stemmed_text))\n",
    "\n",
    "# Токенизация и векторизация русская\n",
    "ru_tokenized_lemmatized_text = tokenize_text(' '.join(lemmatized_text))\n",
    "ru_tokenized_stemmed_text = tokenize_text(' '.join(stemmed_text))\n",
    "\n",
    "ru_vectorized_lemmatized_text = vectorize_text(' '.join(lemmatized_text))\n",
    "ru_vectorized_stemmed_text = vectorize_text(' '.join(stemmed_text))\n",
    "\n",
    "# Токенизация и векторизация английская\n",
    "tokenized_lemmatized_text = tokenize_text(translated_lemmatized_text)\n",
    "tokenized_stemmed_text = tokenize_text(translated_stemmed_text)\n",
    "\n",
    "vectorized_lemmatized_text = vectorize_text(translated_lemmatized_text)\n",
    "vectorized_stemmed_text = vectorize_text(translated_stemmed_text)\n",
    "\n",
    "lemmatized, stemmed = process_text(text)\n",
    "print(\"Лемматизированный текст:\", \" \".join(lemmatized))\n",
    "print(\"Стеммированный текст:\", \" \".join(stemmed))\n",
    "\n",
    "# Вывод результатов\n",
    "print(\"Русская:\")\n",
    "print(\"Токенизация лемматизированного текста:\", ru_tokenized_lemmatized_text)\n",
    "print(\"Токенизация стеммированного текста:\", ru_tokenized_stemmed_text)\n",
    "\n",
    "print(\"Векторизация лемматизированного текста:\", ru_vectorized_lemmatized_text)\n",
    "print(\"Векторизация стеммированного текста:\", ru_vectorized_stemmed_text)\n",
    "\n",
    "print(\"Английская:\")\n",
    "print(\"Токенизация лемматизированного текста:\", tokenized_lemmatized_text)\n",
    "print(\"Токенизация стеммированного текста:\", tokenized_stemmed_text)\n",
    "\n",
    "print(\"Векторизация лемматизированного текста:\", vectorized_lemmatized_text)\n",
    "print(\"Векторизация стеммированного текста:\", vectorized_stemmed_text)"
   ]
  }
 ],
 "metadata": {
  "kernelspec": {
   "display_name": "Python 3",
   "language": "python",
   "name": "python3"
  },
  "language_info": {
   "codemirror_mode": {
    "name": "ipython",
    "version": 3
   },
   "file_extension": ".py",
   "mimetype": "text/x-python",
   "name": "python",
   "nbconvert_exporter": "python",
   "pygments_lexer": "ipython3",
   "version": "3.12.9"
  }
 },
 "nbformat": 4,
 "nbformat_minor": 2
}
